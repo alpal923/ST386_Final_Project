{
 "cells": [
  {
   "cell_type": "code",
   "execution_count": 2,
   "metadata": {},
   "outputs": [
    {
     "ename": "KeyboardInterrupt",
     "evalue": "",
     "output_type": "error",
     "traceback": [
      "\u001b[0;31m---------------------------------------------------------------------------\u001b[0m",
      "\u001b[0;31mKeyboardInterrupt\u001b[0m                         Traceback (most recent call last)",
      "Cell \u001b[0;32mIn[2], line 38\u001b[0m\n\u001b[1;32m     35\u001b[0m     df\u001b[38;5;241m.\u001b[39mat[index, \u001b[38;5;124m'\u001b[39m\u001b[38;5;124mlongitude\u001b[39m\u001b[38;5;124m'\u001b[39m] \u001b[38;5;241m=\u001b[39m lon\n\u001b[1;32m     37\u001b[0m     \u001b[38;5;66;03m# Respect Nominatim's usage policy\u001b[39;00m\n\u001b[0;32m---> 38\u001b[0m     \u001b[43mtime\u001b[49m\u001b[38;5;241;43m.\u001b[39;49m\u001b[43msleep\u001b[49m\u001b[43m(\u001b[49m\u001b[38;5;241;43m1\u001b[39;49m\u001b[43m)\u001b[49m\n\u001b[1;32m     40\u001b[0m \u001b[38;5;66;03m# Save the updated DataFrame\u001b[39;00m\n\u001b[1;32m     41\u001b[0m df\u001b[38;5;241m.\u001b[39mto_csv(\u001b[38;5;124m'\u001b[39m\u001b[38;5;124m/Scraped_Data/war_w_locations.csv\u001b[39m\u001b[38;5;124m'\u001b[39m, index\u001b[38;5;241m=\u001b[39m\u001b[38;5;28;01mFalse\u001b[39;00m)\n",
      "\u001b[0;31mKeyboardInterrupt\u001b[0m: "
     ]
    }
   ],
   "source": [
    "import requests\n",
    "import pandas as pd\n",
    "import time\n",
    "\n",
    "def geocode(location):\n",
    "    \"\"\" Geocode a location using Nominatim API. \"\"\"\n",
    "    url = 'https://nominatim.openstreetmap.org/search'\n",
    "    headers = {\n",
    "        'User-Agent': 'alyanngirl@gmail.com'\n",
    "    }\n",
    "    params = {\n",
    "        'q': location,\n",
    "        'format': 'json'\n",
    "    }\n",
    "\n",
    "    response = requests.get(url, headers=headers, params=params)\n",
    "    if response.status_code == 200:\n",
    "        results = response.json()\n",
    "        if results:\n",
    "            return results[0]['lat'], results[0]['lon']\n",
    "    return None, None\n",
    "\n",
    "# Load your dataset\n",
    "df = pd.read_csv('Scraped_Data/Viking_war_artifacts.csv')\n",
    "\n",
    "# Add columns for latitude and longitude\n",
    "df['latitude'] = None\n",
    "df['longitude'] = None\n",
    "\n",
    "# Iterate over the DataFrame and geocode each location\n",
    "for index, row in df.iterrows():\n",
    "    location = row['Plats']  # Update with your column name\n",
    "    lat, lon = geocode(location)\n",
    "    df.at[index, 'latitude'] = lat\n",
    "    df.at[index, 'longitude'] = lon\n",
    "\n",
    "    # Respect Nominatim's usage policy\n",
    "    time.sleep(1)\n",
    "\n",
    "# Save the updated DataFrame\n",
    "df.to_csv('/Scraped_Data/war_w_locations.csv', index=False)\n"
   ]
  }
 ],
 "metadata": {
  "kernelspec": {
   "display_name": "stat386",
   "language": "python",
   "name": "python3"
  },
  "language_info": {
   "codemirror_mode": {
    "name": "ipython",
    "version": 3
   },
   "file_extension": ".py",
   "mimetype": "text/x-python",
   "name": "python",
   "nbconvert_exporter": "python",
   "pygments_lexer": "ipython3",
   "version": "3.10.12"
  }
 },
 "nbformat": 4,
 "nbformat_minor": 2
}
