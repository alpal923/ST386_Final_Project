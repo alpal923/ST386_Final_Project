{
 "cells": [
  {
   "cell_type": "markdown",
   "id": "f2db13dc",
   "metadata": {},
   "source": [
    "\n",
    "## Exploratory Data Analysis (EDA) of Viking Artifacts Dataset\n",
    "\n",
    "This notebook presents an exploratory data analysis of a dataset containing information about Viking artifacts.\n"
   ]
  },
  {
   "cell_type": "code",
   "execution_count": 1,
   "id": "deeb660c",
   "metadata": {},
   "outputs": [],
   "source": [
    "\n",
    "import pandas as pd\n",
    "import matplotlib.pyplot as plt\n",
    "import seaborn as sns\n"
   ]
  },
  {
   "cell_type": "code",
   "execution_count": 4,
   "id": "8d50baca",
   "metadata": {},
   "outputs": [],
   "source": [
    "\n",
    "# Load the dataset\n",
    "file_path = 'Viking_artifacts.csv'\n",
    "dataset = pd.read_csv(file_path)\n"
   ]
  },
  {
   "cell_type": "markdown",
   "id": "3792e969",
   "metadata": {},
   "source": [
    "\n",
    "### Basic Overview of the Dataset\n"
   ]
  },
  {
   "cell_type": "code",
   "execution_count": 6,
   "id": "d69e6d1a",
   "metadata": {},
   "outputs": [
    {
     "data": {
      "text/plain": [
       "{'Number of Rows': 90,\n",
       " 'Number of Columns': 45,\n",
       " 'Data Types': Unnamed: 0                         int64\n",
       " unique_name                       object\n",
       " Museum                            object\n",
       " Föremålsbenämning                 object\n",
       " Kategori                          object\n",
       " Valör                             object\n",
       " Material                          object\n",
       " Storlek                           object\n",
       " Teknik                            object\n",
       " Antal                            float64\n",
       " Antal fragment                   float64\n",
       " Datering                          object\n",
       " Tidsperiod                        object\n",
       " Tillverkningsplats                object\n",
       " Tillverkare                       object\n",
       " Tidigare ägare                    object\n",
       " Avbildad                          object\n",
       " Motiv                             object\n",
       " Stil                              object\n",
       " Inskription                       object\n",
       " Fysiska egenskaper                object\n",
       " Föremålsnummer                    object\n",
       " Andra nummer                      object\n",
       " Litteratur                        object\n",
       " Historisk person                  object\n",
       " Historisk plats                   object\n",
       " Historisk händelse                object\n",
       " Associerat ämne                   object\n",
       " Osteologisk artbedömning          object\n",
       " Osteologisk benslagsbedömning     object\n",
       " Osteologiska skador/sjukdomar     object\n",
       " Osteologisk åldersbedömning      float64\n",
       " Osteologisk könsbestämning        object\n",
       " Accessionsdatum                   object\n",
       " Förvärvsnummer                    object\n",
       " Omnämns i katalog                 object\n",
       " Förvärvsmetod                     object\n",
       " Förvärvskälla                     object\n",
       " Fyndplats                         object\n",
       " Arkeologisk kontext               object\n",
       " Kontextnamn                       object\n",
       " Undersökare                       object\n",
       " Undersökningsår                   object\n",
       " Relaterat föremål                 object\n",
       " Tillhörande texter                object\n",
       " dtype: object}"
      ]
     },
     "execution_count": 6,
     "metadata": {},
     "output_type": "execute_result"
    }
   ],
   "source": [
    "\n",
    "basic_overview = {\n",
    "    \"Number of Rows\": dataset.shape[0],\n",
    "    \"Number of Columns\": dataset.shape[1],\n",
    "    \"Data Types\": dataset.dtypes\n",
    "}\n",
    "basic_overview\n"
   ]
  },
  {
   "cell_type": "markdown",
   "id": "fd80c56f",
   "metadata": {},
   "source": [
    "\n",
    "### Summary Statistics and Missing Values Analysis\n"
   ]
  },
  {
   "cell_type": "code",
   "execution_count": 8,
   "id": "77e5c8c8",
   "metadata": {},
   "outputs": [
    {
     "data": {
      "text/html": [
       "<div>\n",
       "<style scoped>\n",
       "    .dataframe tbody tr th:only-of-type {\n",
       "        vertical-align: middle;\n",
       "    }\n",
       "\n",
       "    .dataframe tbody tr th {\n",
       "        vertical-align: top;\n",
       "    }\n",
       "\n",
       "    .dataframe thead th {\n",
       "        text-align: right;\n",
       "    }\n",
       "</style>\n",
       "<table border=\"1\" class=\"dataframe\">\n",
       "  <thead>\n",
       "    <tr style=\"text-align: right;\">\n",
       "      <th></th>\n",
       "      <th>Unnamed: 0</th>\n",
       "      <th>Antal</th>\n",
       "      <th>Antal fragment</th>\n",
       "      <th>Osteologisk åldersbedömning</th>\n",
       "    </tr>\n",
       "  </thead>\n",
       "  <tbody>\n",
       "    <tr>\n",
       "      <th>count</th>\n",
       "      <td>90.000000</td>\n",
       "      <td>82.000000</td>\n",
       "      <td>22.000000</td>\n",
       "      <td>1.0</td>\n",
       "    </tr>\n",
       "    <tr>\n",
       "      <th>mean</th>\n",
       "      <td>44.500000</td>\n",
       "      <td>1.182927</td>\n",
       "      <td>1.272727</td>\n",
       "      <td>50.0</td>\n",
       "    </tr>\n",
       "    <tr>\n",
       "      <th>std</th>\n",
       "      <td>26.124701</td>\n",
       "      <td>0.970275</td>\n",
       "      <td>0.631085</td>\n",
       "      <td>NaN</td>\n",
       "    </tr>\n",
       "    <tr>\n",
       "      <th>min</th>\n",
       "      <td>0.000000</td>\n",
       "      <td>1.000000</td>\n",
       "      <td>1.000000</td>\n",
       "      <td>50.0</td>\n",
       "    </tr>\n",
       "    <tr>\n",
       "      <th>25%</th>\n",
       "      <td>22.250000</td>\n",
       "      <td>1.000000</td>\n",
       "      <td>1.000000</td>\n",
       "      <td>50.0</td>\n",
       "    </tr>\n",
       "    <tr>\n",
       "      <th>50%</th>\n",
       "      <td>44.500000</td>\n",
       "      <td>1.000000</td>\n",
       "      <td>1.000000</td>\n",
       "      <td>50.0</td>\n",
       "    </tr>\n",
       "    <tr>\n",
       "      <th>75%</th>\n",
       "      <td>66.750000</td>\n",
       "      <td>1.000000</td>\n",
       "      <td>1.000000</td>\n",
       "      <td>50.0</td>\n",
       "    </tr>\n",
       "    <tr>\n",
       "      <th>max</th>\n",
       "      <td>89.000000</td>\n",
       "      <td>8.000000</td>\n",
       "      <td>3.000000</td>\n",
       "      <td>50.0</td>\n",
       "    </tr>\n",
       "  </tbody>\n",
       "</table>\n",
       "</div>"
      ],
      "text/plain": [
       "       Unnamed: 0      Antal  Antal fragment  Osteologisk åldersbedömning\n",
       "count   90.000000  82.000000       22.000000                          1.0\n",
       "mean    44.500000   1.182927        1.272727                         50.0\n",
       "std     26.124701   0.970275        0.631085                          NaN\n",
       "min      0.000000   1.000000        1.000000                         50.0\n",
       "25%     22.250000   1.000000        1.000000                         50.0\n",
       "50%     44.500000   1.000000        1.000000                         50.0\n",
       "75%     66.750000   1.000000        1.000000                         50.0\n",
       "max     89.000000   8.000000        3.000000                         50.0"
      ]
     },
     "execution_count": 8,
     "metadata": {},
     "output_type": "execute_result"
    }
   ],
   "source": [
    "\n",
    "# Summary Statistics for Numerical Data\n",
    "numerical_summary = dataset.describe()\n",
    "\n",
    "numerical_summary"
   ]
  },
  {
   "cell_type": "code",
   "execution_count": 9,
   "metadata": {},
   "outputs": [
    {
     "data": {
      "text/plain": [
       "Unnamed: 0                        0\n",
       "unique_name                       0\n",
       "Museum                            0\n",
       "Föremålsbenämning                 1\n",
       "Kategori                         44\n",
       "Valör                            89\n",
       "Material                          0\n",
       "Storlek                          17\n",
       "Teknik                           87\n",
       "Antal                             8\n",
       "Antal fragment                   68\n",
       "Datering                         52\n",
       "Tidsperiod                       52\n",
       "Tillverkningsplats               89\n",
       "Tillverkare                      89\n",
       "Tidigare ägare                   86\n",
       "Avbildad                         89\n",
       "Motiv                            89\n",
       "Stil                             89\n",
       "Inskription                      89\n",
       "Fysiska egenskaper               89\n",
       "Föremålsnummer                    0\n",
       "Andra nummer                      6\n",
       "Litteratur                       88\n",
       "Historisk person                 89\n",
       "Historisk plats                  89\n",
       "Historisk händelse               89\n",
       "Associerat ämne                  89\n",
       "Osteologisk artbedömning         89\n",
       "Osteologisk benslagsbedömning    89\n",
       "Osteologiska skador/sjukdomar    89\n",
       "Osteologisk åldersbedömning      89\n",
       "Osteologisk könsbestämning       89\n",
       "Accessionsdatum                  62\n",
       "Förvärvsnummer                    6\n",
       "Omnämns i katalog                83\n",
       "Förvärvsmetod                    35\n",
       "Förvärvskälla                    89\n",
       "Fyndplats                         6\n",
       "Arkeologisk kontext              58\n",
       "Kontextnamn                      88\n",
       "Undersökare                      85\n",
       "Undersökningsår                  89\n",
       "Relaterat föremål                89\n",
       "Tillhörande texter               88\n",
       "dtype: int64"
      ]
     },
     "execution_count": 9,
     "metadata": {},
     "output_type": "execute_result"
    }
   ],
   "source": [
    "\n",
    "# Missing Values Analysis\n",
    "missing_values = dataset.isnull().sum()\n",
    "\n",
    "missing_values\n"
   ]
  },
  {
   "cell_type": "markdown",
   "id": "1528d8c2",
   "metadata": {},
   "source": [
    "\n",
    "### Categorical Data Analysis\n"
   ]
  },
  {
   "cell_type": "code",
   "execution_count": 11,
   "id": "4121f3c3",
   "metadata": {},
   "outputs": [
    {
     "data": {
      "text/plain": [
       "{'Museum': Historiska museet    84\n",
       " Skoklosters slott     5\n",
       " Hallwylska museet     1\n",
       " Name: Museum, dtype: int64,\n",
       " 'Material': Järn                         37\n",
       " Brons                        16\n",
       " Cu-legering                  15\n",
       " Silver                        4\n",
       " Keramik                       3\n",
       " Bly                           3\n",
       " Cu-legering  Järn             2\n",
       " Päronträ (Kolven)             1\n",
       " Kvarts                        1\n",
       " Bergart  Fyllit               1\n",
       " Brons  Organiskt material     1\n",
       " Trä                           1\n",
       " Skiffer                       1\n",
       " Glas                          1\n",
       " Brons  Bly                    1\n",
       " Ben                           1\n",
       " Vax                           1\n",
       " Name: Material, dtype: int64}"
      ]
     },
     "execution_count": 11,
     "metadata": {},
     "output_type": "execute_result"
    }
   ],
   "source": [
    "\n",
    "# Exploring Distribution of Values in Key Categorical Columns\n",
    "categorical_columns = ['Museum', 'Material']\n",
    "category_distribution = {col: dataset[col].value_counts() for col in categorical_columns}\n",
    "category_distribution\n"
   ]
  },
  {
   "cell_type": "markdown",
   "id": "fd80db69",
   "metadata": {},
   "source": [
    "\n",
    "### Visualizations\n"
   ]
  },
  {
   "cell_type": "code",
   "execution_count": 12,
   "id": "a3b51529",
   "metadata": {},
   "outputs": [
    {
     "data": {
      "image/png": "[encoded data removed]",
      "text/plain": [
       "<Figure size 1000x600 with 1 Axes>"
      ]
     },
     "metadata": {},
     "output_type": "display_data"
    },
    {
     "data": {
      "image/png": "[encoded data removed]",
      "text/plain": [
       "<Figure size 1000x600 with 1 Axes>"
      ]
     },
     "metadata": {},
     "output_type": "display_data"
    }
   ],
   "source": [
    "\n",
    "# Visualization 1: Bar Plot for Museum Distribution\n",
    "plt.figure(figsize=(10, 6))\n",
    "sns.countplot(y='Museum', data=dataset, order = dataset['Museum'].value_counts().index)\n",
    "plt.title('Distribution of Items Across Museums')\n",
    "plt.xlabel('Number of Items')\n",
    "plt.ylabel('Museum')\n",
    "\n",
    "# Visualization 2: Bar Plot for Material Distribution\n",
    "plt.figure(figsize=(10, 6))\n",
    "sns.countplot(y='Material', data=dataset, order = dataset['Material'].value_counts().index)\n",
    "plt.title('Distribution of Different Materials')\n",
    "plt.xlabel('Number of Items')\n",
    "plt.ylabel('Material')\n",
    "\n",
    "plt.tight_layout()\n",
    "plt.show()\n"
   ]
  }
 ],
 "metadata": {
  "kernelspec": {
   "display_name": "stat386",
   "language": "python",
   "name": "python3"
  },
  "language_info": {
   "codemirror_mode": {
    "name": "ipython",
    "version": 3
   },
   "file_extension": ".py",
   "mimetype": "text/x-python",
   "name": "python",
   "nbconvert_exporter": "python",
   "pygments_lexer": "ipython3",
   "version": "3.10.12"
  }
 },
 "nbformat": 4,
 "nbformat_minor": 5
}
